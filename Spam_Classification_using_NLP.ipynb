{
 "cells": [
  {
   "cell_type": "code",
   "execution_count": 1,
   "id": "7ab33d1f-e229-4fb1-9db2-fa4151be8ed2",
   "metadata": {},
   "outputs": [],
   "source": [
    "## Spam Classification using NLP"
   ]
  },
  {
   "cell_type": "code",
   "execution_count": null,
   "id": "d1a1c17d-10ca-4cb6-912c-dae2c57f2b2a",
   "metadata": {},
   "outputs": [],
   "source": [
    "### Step 01 - Reading Data & Visualization"
   ]
  },
  {
   "cell_type": "code",
   "execution_count": null,
   "id": "4aa17c87-b588-4a70-8b78-57962dcc374e",
   "metadata": {},
   "outputs": [],
   "source": [
    "import pandas as pd\n",
    "import nltk"
   ]
  },
  {
   "cell_type": "code",
   "execution_count": null,
   "id": "a00fc33b-c8dd-4750-b8f8-c9bf1ae84247",
   "metadata": {},
   "outputs": [],
   "source": [
    "df = pd.read_csv(\"spam.csv\", encoding=\"latin-1\")"
   ]
  },
  {
   "cell_type": "code",
   "execution_count": null,
   "id": "db2de711-5344-4016-b867-5a4eb9891702",
   "metadata": {},
   "outputs": [],
   "source": [
    "df.head(5)"
   ]
  },
  {
   "cell_type": "code",
   "execution_count": null,
   "id": "eb285a80-e72c-4e11-95f6-ba3eefbc9a78",
   "metadata": {},
   "outputs": [],
   "source": [
    "df.shape"
   ]
  },
  {
   "cell_type": "code",
   "execution_count": null,
   "id": "4765311a-0863-493f-b623-dbfe44520514",
   "metadata": {},
   "outputs": [],
   "source": [
    "df.drop(columns=['Unnamed: 2','Unnamed: 3','Unnamed: 4'],inplace=True)"
   ]
  },
  {
   "cell_type": "code",
   "execution_count": null,
   "id": "88d872b7-1e4a-4ee6-bf94-a8aae54e72d8",
   "metadata": {},
   "outputs": [],
   "source": [
    "df.rename(columns={'v1':'class','v2':'sms'},inplace=True)\n",
    "df.sample(5)"
   ]
  },
  {
   "cell_type": "code",
   "execution_count": null,
   "id": "fc18b642-9225-435a-9a43-b415a7ce738c",
   "metadata": {},
   "outputs": [],
   "source": [
    "df.groupby('class').describe()"
   ]
  },
  {
   "cell_type": "code",
   "execution_count": null,
   "id": "a066842c-8b42-46cb-adbb-457284d0a7fa",
   "metadata": {},
   "outputs": [],
   "source": [
    "df = df.drop_duplicates(keep='first')"
   ]
  },
  {
   "cell_type": "code",
   "execution_count": null,
   "id": "9081fe8f-5915-4c89-89c4-a1f0b3130d18",
   "metadata": {},
   "outputs": [],
   "source": [
    "df.groupby('class').describe()"
   ]
  },
  {
   "cell_type": "code",
   "execution_count": null,
   "id": "07ec97b1-8f9f-4e7f-a6a3-6956e8144beb",
   "metadata": {},
   "outputs": [],
   "source": [
    "df[\"Length\"] = df[\"sms\"].apply(len)"
   ]
  },
  {
   "cell_type": "code",
   "execution_count": null,
   "id": "cfefe94f-a5c0-4591-bc86-d4f9eb2e8e75",
   "metadata": {},
   "outputs": [],
   "source": [
    "df.head(2)"
   ]
  },
  {
   "cell_type": "code",
   "execution_count": null,
   "id": "2d96892b-5bfb-4c4a-8721-86b7880ae0e8",
   "metadata": {},
   "outputs": [],
   "source": [
    "df.hist(column='Length', by='class', bins=50)"
   ]
  },
  {
   "cell_type": "code",
   "execution_count": null,
   "id": "59ae241d-217a-408b-8c0d-bffa9b3b9b8e",
   "metadata": {},
   "outputs": [],
   "source": [
    "from nltk.stem.porter import PorterStemmer\n",
    "from nltk.corpus import stopwords\n",
    "\n",
    "ps = PorterStemmer()"
   ]
  },
  {
   "cell_type": "code",
   "execution_count": null,
   "id": "0eba1468-15e2-456a-b370-2b706b626dae",
   "metadata": {},
   "outputs": [],
   "source": [
    "df.head(5)"
   ]
  },
  {
   "cell_type": "code",
   "execution_count": null,
   "id": "9ec653ce-27c1-4e42-9aa7-6ff09ca3594f",
   "metadata": {},
   "outputs": [],
   "source": [
    "Preprocessing Tasks:\n",
    "\n",
    "*   Lower case\n",
    "*   Tokenization\n",
    "*   Removing specail characters\n",
    "*   Removing stop word punctuation\n",
    "*   Stemming"
   ]
  },
  {
   "cell_type": "code",
   "execution_count": null,
   "id": "01ad71bb-ab1a-4652-a9c9-1b233335006a",
   "metadata": {},
   "outputs": [],
   "source": [
    "import string\n",
    "\n",
    "def clean_text(text):\n",
    "    text = text.lower()\n",
    "    text = nltk.word_tokenize(text)\n",
    "\n",
    "    y = [i for i in text if i.isalnum()]\n",
    "    \"\"\"for i in text:\n",
    "        if i.isalnum():\n",
    "            y.append(i)\"\"\"\n",
    "    \n",
    "    text = y[:]\n",
    "    y.clear()\n",
    "\n",
    "    y = [i for i in text if i not in stopwords.words('english') and i not in string.punctuation]\n",
    "    \"\"\"\"for i in text:\n",
    "        if i not in stopwords.words('english') and i not in string.punctuation:\n",
    "            y.append(i)\"\"\"\n",
    "\n",
    "    text = y[:]\n",
    "    y.clear()\n",
    "    \n",
    "    y = [ps.stem(i) for i in text if i.isalnum()]\n",
    "    \"\"\"for i in text:\n",
    "        y.append(ps.stem(i))\"\"\"\n",
    "\n",
    "    return \" \".join(y)"
   ]
  },
  {
   "cell_type": "code",
   "execution_count": null,
   "id": "bd5c78d0-508d-47c9-8eb7-4cfb57609152",
   "metadata": {},
   "outputs": [],
   "source": [
    "df['sms_cleaned'] = df['sms'].apply(clean_text)"
   ]
  },
  {
   "cell_type": "code",
   "execution_count": null,
   "id": "54df564b-42eb-4f0f-bfe2-7c2d1913bea1",
   "metadata": {},
   "outputs": [],
   "source": [
    "df.head(5)"
   ]
  },
  {
   "cell_type": "code",
   "execution_count": null,
   "id": "db5d129a-cb0b-4035-90d7-919a47607e0f",
   "metadata": {},
   "outputs": [],
   "source": [
    "### Step 03 - Feature Extraction"
   ]
  },
  {
   "cell_type": "code",
   "execution_count": null,
   "id": "ba81cc4d-33ab-4937-b810-5f24d56e1857",
   "metadata": {},
   "outputs": [],
   "source": [
    "from sklearn.feature_extraction.text import TfidfVectorizer"
   ]
  },
  {
   "cell_type": "code",
   "execution_count": null,
   "id": "d1d27958-3821-48b2-ae6c-bd9cd1b65341",
   "metadata": {},
   "outputs": [],
   "source": [
    "from nltk.parse.corenlp import transform\n",
    "\n",
    "tf_vec = TfidfVectorizer(max_features=3000)\n",
    "X = tf_vec.fit_transform(df['sms_cleaned']).toarray()"
   ]
  },
  {
   "cell_type": "code",
   "execution_count": null,
   "id": "b21545a7-9e5d-4fbf-b5e1-06f5bfec36e5",
   "metadata": {},
   "outputs": [],
   "source": [
    "X.shape"
   ]
  },
  {
   "cell_type": "code",
   "execution_count": null,
   "id": "188456b3-df3d-44cc-8209-373ed72da558",
   "metadata": {},
   "outputs": [],
   "source": [
    "Y = df['class'].values"
   ]
  },
  {
   "cell_type": "code",
   "execution_count": null,
   "id": "849298ad-cc05-4145-ad47-75ffdef760c7",
   "metadata": {},
   "outputs": [],
   "source": [
    "### Step 04 - Learning"
   ]
  },
  {
   "cell_type": "code",
   "execution_count": null,
   "id": "d964bfbd-d5ec-4a71-b961-82cbc1601a99",
   "metadata": {},
   "outputs": [],
   "source": [
    "from scipy.sparse import random\n",
    "from sklearn.model_selection import train_test_split\n",
    "\n",
    "X_train,X_test,y_train,y_test = train_test_split(X,Y,test_size=0.2,random_state=2)"
   ]
  },
  {
   "cell_type": "code",
   "execution_count": null,
   "id": "32c111e9-dbb5-4b3f-83b5-28e0473ed7f8",
   "metadata": {},
   "outputs": [],
   "source": [
    "from sklearn.naive_bayes import MultinomialNB\n",
    "\n",
    "model = MultinomialNB()\n",
    "model.fit(X_train,y_train)"
   ]
  },
  {
   "cell_type": "code",
   "execution_count": null,
   "id": "ae431d7e-97a7-4ee1-82b3-7ceb30925d27",
   "metadata": {},
   "outputs": [],
   "source": [
    "from sklearn.metrics import accuracy_score\n",
    "y_pred = model.predict(X_test)\n",
    "print(accuracy_score(y_test,y_pred))"
   ]
  },
  {
   "cell_type": "code",
   "execution_count": null,
   "id": "9465e252-86da-450f-9b8e-ff6872c6167d",
   "metadata": {},
   "outputs": [],
   "source": []
  },
  {
   "cell_type": "code",
   "execution_count": null,
   "id": "e40bb903-1e76-4aa0-a9d8-0a12541e9639",
   "metadata": {},
   "outputs": [],
   "source": []
  }
 ],
 "metadata": {
  "kernelspec": {
   "display_name": "Python 3 (ipykernel)",
   "language": "python",
   "name": "python3"
  },
  "language_info": {
   "codemirror_mode": {
    "name": "ipython",
    "version": 3
   },
   "file_extension": ".py",
   "mimetype": "text/x-python",
   "name": "python",
   "nbconvert_exporter": "python",
   "pygments_lexer": "ipython3",
   "version": "3.12.1"
  }
 },
 "nbformat": 4,
 "nbformat_minor": 5
}
